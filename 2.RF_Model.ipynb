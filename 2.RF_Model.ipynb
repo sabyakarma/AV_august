{
 "cells": [
  {
   "cell_type": "code",
   "execution_count": 39,
   "id": "55af3819-9673-4a2b-b56e-241b7b2c25df",
   "metadata": {},
   "outputs": [],
   "source": [
    "import pandas as pd\n",
    "import numpy as np\n",
    "\n",
    "import matplotlib.pyplot as plt\n",
    "import seaborn as sns\n",
    "\n",
    "from sklearn.model_selection import RandomizedSearchCV\n",
    "from sklearn.feature_selection import mutual_info_regression\n",
    "from sklearn.preprocessing import MinMaxScaler\n",
    "\n",
    "from feature_engine.encoding import OneHotEncoder, CountFrequencyEncoder\n",
    "from sklearn.metrics import mean_squared_error, r2_score"
   ]
  },
  {
   "cell_type": "code",
   "execution_count": 40,
   "id": "4c03b039-da83-4311-a166-53e6ebbdd2b5",
   "metadata": {},
   "outputs": [],
   "source": [
    "import warnings\n",
    "warnings.filterwarnings(action='ignore')"
   ]
  },
  {
   "cell_type": "code",
   "execution_count": 41,
   "id": "80c3e08c-339b-48a4-a54a-e7df3235fdc1",
   "metadata": {},
   "outputs": [],
   "source": [
    "# Import the data\n",
    "data = pd.read_csv('train_F3fUq2S.csv')"
   ]
  },
  {
   "cell_type": "code",
   "execution_count": 42,
   "id": "796ad631-2c66-4bcb-8851-5772e9c3c79f",
   "metadata": {},
   "outputs": [],
   "source": [
    "X = data.drop(['click_rate','campaign_id','is_timer'], axis =1)\n",
    "y = data['click_rate']"
   ]
  },
  {
   "cell_type": "code",
   "execution_count": 43,
   "id": "a2a421ab-ab1c-4680-9b2a-77ad57f011c6",
   "metadata": {},
   "outputs": [],
   "source": [
    "cat_vars = X.select_dtypes(include='O').columns.to_list()\n",
    "num_vars = X.select_dtypes(exclude='O').columns.to_list()"
   ]
  },
  {
   "cell_type": "code",
   "execution_count": 44,
   "id": "5547e370-1144-4009-b426-62c916c4d51f",
   "metadata": {},
   "outputs": [],
   "source": [
    "oh_encoder_var = [var for var in num_vars if len(X[var].unique()) < 4]\n",
    "cont_vars = [var for var in num_vars if len(X[var].unique()) > 20]\n",
    "freq_enc_var = [var for var in num_vars if (len(X[var].unique())>4 and len(X[var].unique()) < 20)]"
   ]
  },
  {
   "cell_type": "code",
   "execution_count": 45,
   "id": "3c71da97-acf5-48ac-949d-4b38e707f1df",
   "metadata": {},
   "outputs": [],
   "source": [
    "freq_enc_var.append('times_of_day')"
   ]
  },
  {
   "cell_type": "code",
   "execution_count": 46,
   "id": "aff62bc3-3158-40df-9b6d-a1554dc34cb7",
   "metadata": {},
   "outputs": [
    {
     "data": {
      "text/plain": [
       "Evening    1317\n",
       "Noon        447\n",
       "Morning     124\n",
       "Name: times_of_day, dtype: int64"
      ]
     },
     "execution_count": 46,
     "metadata": {},
     "output_type": "execute_result"
    }
   ],
   "source": [
    "data['times_of_day'].value_counts()"
   ]
  },
  {
   "cell_type": "markdown",
   "id": "144c97a6-63ae-49f0-9c3e-15307a2ed6db",
   "metadata": {
    "tags": []
   },
   "source": [
    "### Create a Dataprocessing Pipeline"
   ]
  },
  {
   "cell_type": "code",
   "execution_count": 47,
   "id": "67b2273d-8f52-42bf-ab21-c1c2e751f179",
   "metadata": {},
   "outputs": [],
   "source": [
    "from sklearn.pipeline import Pipeline"
   ]
  },
  {
   "cell_type": "code",
   "execution_count": 48,
   "id": "2e4a9446-628c-4547-8a9b-9d3669b54112",
   "metadata": {},
   "outputs": [],
   "source": [
    "encoder_pipeline = Pipeline([\n",
    "    ('Frequency Encoder', CountFrequencyEncoder(variables=cat_vars,encoding_method='frequency')),\n",
    "    ('MinMax Scaler', MinMaxScaler())\n",
    "])"
   ]
  },
  {
   "cell_type": "code",
   "execution_count": 49,
   "id": "39b16c09-d6d6-499c-b76e-d482266e95e6",
   "metadata": {},
   "outputs": [
    {
     "data": {
      "text/plain": [
       "Pipeline(steps=[('Frequency Encoder',\n",
       "                 CountFrequencyEncoder(encoding_method='frequency',\n",
       "                                       variables=['times_of_day'])),\n",
       "                ('MinMax Scaler', MinMaxScaler())])"
      ]
     },
     "execution_count": 49,
     "metadata": {},
     "output_type": "execute_result"
    }
   ],
   "source": [
    "encoder_pipeline.fit(X,y)"
   ]
  },
  {
   "cell_type": "code",
   "execution_count": 50,
   "id": "3726c76b-b97b-41d1-8b37-7a924a7fa190",
   "metadata": {},
   "outputs": [],
   "source": [
    "X_enc = pd.DataFrame(encoder_pipeline.transform(X),columns=X.columns)"
   ]
  },
  {
   "cell_type": "code",
   "execution_count": 51,
   "id": "716512cf-3952-49a6-a9ad-c209f0638794",
   "metadata": {},
   "outputs": [
    {
     "data": {
      "text/html": [
       "<div>\n",
       "<style scoped>\n",
       "    .dataframe tbody tr th:only-of-type {\n",
       "        vertical-align: middle;\n",
       "    }\n",
       "\n",
       "    .dataframe tbody tr th {\n",
       "        vertical-align: top;\n",
       "    }\n",
       "\n",
       "    .dataframe thead th {\n",
       "        text-align: right;\n",
       "    }\n",
       "</style>\n",
       "<table border=\"1\" class=\"dataframe\">\n",
       "  <thead>\n",
       "    <tr style=\"text-align: right;\">\n",
       "      <th></th>\n",
       "      <th>sender</th>\n",
       "      <th>subject_len</th>\n",
       "      <th>body_len</th>\n",
       "      <th>mean_paragraph_len</th>\n",
       "      <th>day_of_week</th>\n",
       "      <th>is_weekend</th>\n",
       "      <th>times_of_day</th>\n",
       "      <th>category</th>\n",
       "      <th>product</th>\n",
       "      <th>no_of_CTA</th>\n",
       "      <th>mean_CTA_len</th>\n",
       "      <th>is_image</th>\n",
       "      <th>is_personalised</th>\n",
       "      <th>is_quote</th>\n",
       "      <th>is_emoticons</th>\n",
       "      <th>is_discount</th>\n",
       "      <th>is_price</th>\n",
       "      <th>is_urgency</th>\n",
       "      <th>target_audience</th>\n",
       "    </tr>\n",
       "  </thead>\n",
       "  <tbody>\n",
       "    <tr>\n",
       "      <th>0</th>\n",
       "      <td>0.2</td>\n",
       "      <td>0.261719</td>\n",
       "      <td>0.234236</td>\n",
       "      <td>0.124113</td>\n",
       "      <td>0.833333</td>\n",
       "      <td>1.0</td>\n",
       "      <td>0.270746</td>\n",
       "      <td>0.400000</td>\n",
       "      <td>0.604651</td>\n",
       "      <td>0.061224</td>\n",
       "      <td>0.179012</td>\n",
       "      <td>0.000000</td>\n",
       "      <td>0.0</td>\n",
       "      <td>0.000000</td>\n",
       "      <td>0.0</td>\n",
       "      <td>0.0</td>\n",
       "      <td>0.0</td>\n",
       "      <td>0.0</td>\n",
       "      <td>0.875</td>\n",
       "    </tr>\n",
       "    <tr>\n",
       "      <th>1</th>\n",
       "      <td>0.2</td>\n",
       "      <td>0.175781</td>\n",
       "      <td>0.057277</td>\n",
       "      <td>0.893617</td>\n",
       "      <td>0.833333</td>\n",
       "      <td>1.0</td>\n",
       "      <td>0.000000</td>\n",
       "      <td>0.133333</td>\n",
       "      <td>0.255814</td>\n",
       "      <td>0.000000</td>\n",
       "      <td>0.135802</td>\n",
       "      <td>0.000000</td>\n",
       "      <td>0.0</td>\n",
       "      <td>0.000000</td>\n",
       "      <td>0.0</td>\n",
       "      <td>0.0</td>\n",
       "      <td>0.0</td>\n",
       "      <td>0.0</td>\n",
       "      <td>0.625</td>\n",
       "    </tr>\n",
       "    <tr>\n",
       "      <th>2</th>\n",
       "      <td>0.2</td>\n",
       "      <td>0.195312</td>\n",
       "      <td>0.287353</td>\n",
       "      <td>0.042553</td>\n",
       "      <td>0.833333</td>\n",
       "      <td>1.0</td>\n",
       "      <td>0.270746</td>\n",
       "      <td>0.133333</td>\n",
       "      <td>0.255814</td>\n",
       "      <td>0.061224</td>\n",
       "      <td>0.141975</td>\n",
       "      <td>0.166667</td>\n",
       "      <td>0.0</td>\n",
       "      <td>0.166667</td>\n",
       "      <td>0.0</td>\n",
       "      <td>0.0</td>\n",
       "      <td>0.0</td>\n",
       "      <td>0.0</td>\n",
       "      <td>1.000</td>\n",
       "    </tr>\n",
       "    <tr>\n",
       "      <th>3</th>\n",
       "      <td>0.2</td>\n",
       "      <td>0.253906</td>\n",
       "      <td>0.247684</td>\n",
       "      <td>0.092199</td>\n",
       "      <td>0.666667</td>\n",
       "      <td>0.0</td>\n",
       "      <td>1.000000</td>\n",
       "      <td>1.000000</td>\n",
       "      <td>0.209302</td>\n",
       "      <td>0.081633</td>\n",
       "      <td>0.148148</td>\n",
       "      <td>0.000000</td>\n",
       "      <td>0.0</td>\n",
       "      <td>0.000000</td>\n",
       "      <td>0.0</td>\n",
       "      <td>0.0</td>\n",
       "      <td>0.0</td>\n",
       "      <td>0.0</td>\n",
       "      <td>0.625</td>\n",
       "    </tr>\n",
       "    <tr>\n",
       "      <th>4</th>\n",
       "      <td>0.2</td>\n",
       "      <td>0.277344</td>\n",
       "      <td>0.224611</td>\n",
       "      <td>0.081560</td>\n",
       "      <td>0.833333</td>\n",
       "      <td>1.0</td>\n",
       "      <td>0.270746</td>\n",
       "      <td>0.400000</td>\n",
       "      <td>0.604651</td>\n",
       "      <td>0.061224</td>\n",
       "      <td>0.191358</td>\n",
       "      <td>0.000000</td>\n",
       "      <td>0.0</td>\n",
       "      <td>0.166667</td>\n",
       "      <td>0.0</td>\n",
       "      <td>0.0</td>\n",
       "      <td>0.0</td>\n",
       "      <td>0.0</td>\n",
       "      <td>0.875</td>\n",
       "    </tr>\n",
       "  </tbody>\n",
       "</table>\n",
       "</div>"
      ],
      "text/plain": [
       "   sender  subject_len  body_len  mean_paragraph_len  day_of_week  is_weekend  \\\n",
       "0     0.2     0.261719  0.234236            0.124113     0.833333         1.0   \n",
       "1     0.2     0.175781  0.057277            0.893617     0.833333         1.0   \n",
       "2     0.2     0.195312  0.287353            0.042553     0.833333         1.0   \n",
       "3     0.2     0.253906  0.247684            0.092199     0.666667         0.0   \n",
       "4     0.2     0.277344  0.224611            0.081560     0.833333         1.0   \n",
       "\n",
       "   times_of_day  category   product  no_of_CTA  mean_CTA_len  is_image  \\\n",
       "0      0.270746  0.400000  0.604651   0.061224      0.179012  0.000000   \n",
       "1      0.000000  0.133333  0.255814   0.000000      0.135802  0.000000   \n",
       "2      0.270746  0.133333  0.255814   0.061224      0.141975  0.166667   \n",
       "3      1.000000  1.000000  0.209302   0.081633      0.148148  0.000000   \n",
       "4      0.270746  0.400000  0.604651   0.061224      0.191358  0.000000   \n",
       "\n",
       "   is_personalised  is_quote  is_emoticons  is_discount  is_price  is_urgency  \\\n",
       "0              0.0  0.000000           0.0          0.0       0.0         0.0   \n",
       "1              0.0  0.000000           0.0          0.0       0.0         0.0   \n",
       "2              0.0  0.166667           0.0          0.0       0.0         0.0   \n",
       "3              0.0  0.000000           0.0          0.0       0.0         0.0   \n",
       "4              0.0  0.166667           0.0          0.0       0.0         0.0   \n",
       "\n",
       "   target_audience  \n",
       "0            0.875  \n",
       "1            0.625  \n",
       "2            1.000  \n",
       "3            0.625  \n",
       "4            0.875  "
      ]
     },
     "execution_count": 51,
     "metadata": {},
     "output_type": "execute_result"
    }
   ],
   "source": [
    "X_enc.head()"
   ]
  },
  {
   "cell_type": "markdown",
   "id": "2872831c-1d01-4bea-bfad-c166f693896e",
   "metadata": {},
   "source": [
    "### Create a RandomForest Model"
   ]
  },
  {
   "cell_type": "code",
   "execution_count": 52,
   "id": "d11d8dc8-194f-4d9b-904d-ca04565d123e",
   "metadata": {},
   "outputs": [],
   "source": [
    "from sklearn.ensemble import RandomForestRegressor"
   ]
  },
  {
   "cell_type": "code",
   "execution_count": 53,
   "id": "ca1ff0d5-5efe-4e96-a0d2-79cd5ebcf850",
   "metadata": {},
   "outputs": [],
   "source": [
    "param_grid = {\n",
    "    'criterion': ['squared_error','absolute_error', 'poisson']\n",
    "}"
   ]
  },
  {
   "cell_type": "code",
   "execution_count": 54,
   "id": "dd452dc1-588d-4eb5-b776-98756fce4ce0",
   "metadata": {},
   "outputs": [],
   "source": [
    "rf_model = RandomForestRegressor(oob_score=True)"
   ]
  },
  {
   "cell_type": "code",
   "execution_count": 55,
   "id": "f74863ac-800a-4376-bb22-b24750da6c56",
   "metadata": {},
   "outputs": [],
   "source": [
    "cv_model = RandomizedSearchCV(estimator=rf_model,param_distributions=param_grid, verbose=2,cv=5)"
   ]
  },
  {
   "cell_type": "code",
   "execution_count": 56,
   "id": "43ed591d-b2dd-46e7-afd8-91309c02755d",
   "metadata": {},
   "outputs": [
    {
     "name": "stdout",
     "output_type": "stream",
     "text": [
      "Fitting 5 folds for each of 3 candidates, totalling 15 fits\n",
      "[CV] END ............................criterion=squared_error; total time=   0.6s\n",
      "[CV] END ............................criterion=squared_error; total time=   0.6s\n",
      "[CV] END ............................criterion=squared_error; total time=   0.6s\n",
      "[CV] END ............................criterion=squared_error; total time=   0.6s\n",
      "[CV] END ............................criterion=squared_error; total time=   0.6s\n",
      "[CV] END ...........................criterion=absolute_error; total time=  13.6s\n",
      "[CV] END ...........................criterion=absolute_error; total time=  14.0s\n",
      "[CV] END ...........................criterion=absolute_error; total time=  13.2s\n",
      "[CV] END ...........................criterion=absolute_error; total time=  14.1s\n",
      "[CV] END ...........................criterion=absolute_error; total time=  16.6s\n",
      "[CV] END ..................................criterion=poisson; total time=   1.6s\n",
      "[CV] END ..................................criterion=poisson; total time=   1.6s\n",
      "[CV] END ..................................criterion=poisson; total time=   1.6s\n",
      "[CV] END ..................................criterion=poisson; total time=   1.6s\n",
      "[CV] END ..................................criterion=poisson; total time=   1.8s\n"
     ]
    },
    {
     "data": {
      "text/plain": [
       "RandomizedSearchCV(cv=5, estimator=RandomForestRegressor(oob_score=True),\n",
       "                   param_distributions={'criterion': ['squared_error',\n",
       "                                                      'absolute_error',\n",
       "                                                      'poisson']},\n",
       "                   verbose=2)"
      ]
     },
     "execution_count": 56,
     "metadata": {},
     "output_type": "execute_result"
    }
   ],
   "source": [
    "cv_model.fit(X_enc,y)"
   ]
  },
  {
   "cell_type": "code",
   "execution_count": 57,
   "id": "4d7137e6-4220-4a76-90b7-bf8c4fdffd9b",
   "metadata": {},
   "outputs": [
    {
     "data": {
      "text/html": [
       "<div>\n",
       "<style scoped>\n",
       "    .dataframe tbody tr th:only-of-type {\n",
       "        vertical-align: middle;\n",
       "    }\n",
       "\n",
       "    .dataframe tbody tr th {\n",
       "        vertical-align: top;\n",
       "    }\n",
       "\n",
       "    .dataframe thead th {\n",
       "        text-align: right;\n",
       "    }\n",
       "</style>\n",
       "<table border=\"1\" class=\"dataframe\">\n",
       "  <thead>\n",
       "    <tr style=\"text-align: right;\">\n",
       "      <th></th>\n",
       "      <th>mean_fit_time</th>\n",
       "      <th>std_fit_time</th>\n",
       "      <th>mean_score_time</th>\n",
       "      <th>std_score_time</th>\n",
       "      <th>param_criterion</th>\n",
       "      <th>params</th>\n",
       "      <th>split0_test_score</th>\n",
       "      <th>split1_test_score</th>\n",
       "      <th>split2_test_score</th>\n",
       "      <th>split3_test_score</th>\n",
       "      <th>split4_test_score</th>\n",
       "      <th>mean_test_score</th>\n",
       "      <th>std_test_score</th>\n",
       "      <th>rank_test_score</th>\n",
       "    </tr>\n",
       "  </thead>\n",
       "  <tbody>\n",
       "    <tr>\n",
       "      <th>0</th>\n",
       "      <td>0.588406</td>\n",
       "      <td>0.011250</td>\n",
       "      <td>0.008522</td>\n",
       "      <td>0.000109</td>\n",
       "      <td>squared_error</td>\n",
       "      <td>{'criterion': 'squared_error'}</td>\n",
       "      <td>0.357792</td>\n",
       "      <td>0.241943</td>\n",
       "      <td>0.062097</td>\n",
       "      <td>0.260125</td>\n",
       "      <td>-0.552531</td>\n",
       "      <td>0.073885</td>\n",
       "      <td>0.327435</td>\n",
       "      <td>3</td>\n",
       "    </tr>\n",
       "    <tr>\n",
       "      <th>1</th>\n",
       "      <td>14.279446</td>\n",
       "      <td>1.192453</td>\n",
       "      <td>0.008423</td>\n",
       "      <td>0.000115</td>\n",
       "      <td>absolute_error</td>\n",
       "      <td>{'criterion': 'absolute_error'}</td>\n",
       "      <td>0.318152</td>\n",
       "      <td>0.294886</td>\n",
       "      <td>0.058493</td>\n",
       "      <td>0.305593</td>\n",
       "      <td>-0.397572</td>\n",
       "      <td>0.115910</td>\n",
       "      <td>0.274180</td>\n",
       "      <td>1</td>\n",
       "    </tr>\n",
       "    <tr>\n",
       "      <th>2</th>\n",
       "      <td>1.657125</td>\n",
       "      <td>0.085916</td>\n",
       "      <td>0.010401</td>\n",
       "      <td>0.000155</td>\n",
       "      <td>poisson</td>\n",
       "      <td>{'criterion': 'poisson'}</td>\n",
       "      <td>0.257305</td>\n",
       "      <td>0.308660</td>\n",
       "      <td>0.046554</td>\n",
       "      <td>0.032827</td>\n",
       "      <td>-0.257662</td>\n",
       "      <td>0.077537</td>\n",
       "      <td>0.200525</td>\n",
       "      <td>2</td>\n",
       "    </tr>\n",
       "  </tbody>\n",
       "</table>\n",
       "</div>"
      ],
      "text/plain": [
       "   mean_fit_time  std_fit_time  mean_score_time  std_score_time  \\\n",
       "0       0.588406      0.011250         0.008522        0.000109   \n",
       "1      14.279446      1.192453         0.008423        0.000115   \n",
       "2       1.657125      0.085916         0.010401        0.000155   \n",
       "\n",
       "  param_criterion                           params  split0_test_score  \\\n",
       "0   squared_error   {'criterion': 'squared_error'}           0.357792   \n",
       "1  absolute_error  {'criterion': 'absolute_error'}           0.318152   \n",
       "2         poisson         {'criterion': 'poisson'}           0.257305   \n",
       "\n",
       "   split1_test_score  split2_test_score  split3_test_score  split4_test_score  \\\n",
       "0           0.241943           0.062097           0.260125          -0.552531   \n",
       "1           0.294886           0.058493           0.305593          -0.397572   \n",
       "2           0.308660           0.046554           0.032827          -0.257662   \n",
       "\n",
       "   mean_test_score  std_test_score  rank_test_score  \n",
       "0         0.073885        0.327435                3  \n",
       "1         0.115910        0.274180                1  \n",
       "2         0.077537        0.200525                2  "
      ]
     },
     "execution_count": 57,
     "metadata": {},
     "output_type": "execute_result"
    }
   ],
   "source": [
    "pd.DataFrame(cv_model.cv_results_)"
   ]
  },
  {
   "cell_type": "markdown",
   "id": "47f5a155-d545-47be-9f1d-c5e0d971db60",
   "metadata": {},
   "source": [
    "### Create Evalution Metrics"
   ]
  },
  {
   "cell_type": "code",
   "execution_count": 58,
   "id": "50f02778-fec6-44b2-ba29-534677fb0373",
   "metadata": {},
   "outputs": [],
   "source": [
    "def evalution_metrics(data,y_actual, y_pred, model):\n",
    "    \n",
    "    y_predict = model.predict(data)\n",
    "    \n",
    "    rmse = np.sqrt(mean_squared_error(y_actual,y_predict))\n",
    "    r_score = r2_score(y_true=y_actual, y_pred= y_predict)\n",
    "    \n",
    "    return {'rmse':rmse, 'r2_score':r_score}\n",
    "    \n",
    "    "
   ]
  },
  {
   "cell_type": "code",
   "execution_count": 59,
   "id": "76011b3d-60fb-450f-9920-15468750a439",
   "metadata": {},
   "outputs": [],
   "source": [
    "y_predict = cv_model.predict(X_enc)"
   ]
  },
  {
   "cell_type": "code",
   "execution_count": 60,
   "id": "99333036-f62e-42a6-8744-8d69691f38a8",
   "metadata": {},
   "outputs": [
    {
     "data": {
      "text/plain": [
       "{'rmse': 0.02076123838082154, 'r2_score': 0.9392036550337497}"
      ]
     },
     "execution_count": 60,
     "metadata": {},
     "output_type": "execute_result"
    }
   ],
   "source": [
    "## Check the r2_score and RMSE:\n",
    "evalution_metrics(data=X_enc,y_actual=y, y_pred=y_predict, model=cv_model)"
   ]
  },
  {
   "cell_type": "markdown",
   "id": "df294508-b3a9-41db-af56-9353703a5149",
   "metadata": {},
   "source": [
    "### Create the Submission File"
   ]
  },
  {
   "cell_type": "code",
   "execution_count": 61,
   "id": "72fd71b9-e70b-4308-bef8-9c3db7ff7260",
   "metadata": {},
   "outputs": [],
   "source": [
    "test_data = pd.read_csv('test_Bk2wfZ3.csv')"
   ]
  },
  {
   "cell_type": "code",
   "execution_count": 62,
   "id": "40411a1d-46a4-47cc-9bbe-ef61eef1eb22",
   "metadata": {},
   "outputs": [],
   "source": [
    "X_test = test_data.drop(['campaign_id','is_timer'], axis =1)"
   ]
  },
  {
   "cell_type": "code",
   "execution_count": 63,
   "id": "6034be10-d864-4599-923c-6f3be4734e95",
   "metadata": {},
   "outputs": [],
   "source": [
    "test_enc = encoder_pipeline.transform(X_test)"
   ]
  },
  {
   "cell_type": "code",
   "execution_count": 64,
   "id": "a11a7356-dfa3-4b4c-a8b1-0f3bb68af0ce",
   "metadata": {},
   "outputs": [],
   "source": [
    "test_predict = cv_model.predict(test_enc)"
   ]
  },
  {
   "cell_type": "code",
   "execution_count": 65,
   "id": "f3014140-3b53-4c00-94e1-f91fc8e72a13",
   "metadata": {},
   "outputs": [],
   "source": [
    "result = pd.DataFrame()\n",
    "result['campaign_id'] = test_data['campaign_id']\n",
    "result['click_rate'] = np.round(test_predict,2)"
   ]
  },
  {
   "cell_type": "code",
   "execution_count": 66,
   "id": "ef024d04-6163-4078-8f9f-28aff2c3edbc",
   "metadata": {},
   "outputs": [
    {
     "data": {
      "text/html": [
       "<div>\n",
       "<style scoped>\n",
       "    .dataframe tbody tr th:only-of-type {\n",
       "        vertical-align: middle;\n",
       "    }\n",
       "\n",
       "    .dataframe tbody tr th {\n",
       "        vertical-align: top;\n",
       "    }\n",
       "\n",
       "    .dataframe thead th {\n",
       "        text-align: right;\n",
       "    }\n",
       "</style>\n",
       "<table border=\"1\" class=\"dataframe\">\n",
       "  <thead>\n",
       "    <tr style=\"text-align: right;\">\n",
       "      <th></th>\n",
       "      <th>campaign_id</th>\n",
       "      <th>click_rate</th>\n",
       "    </tr>\n",
       "  </thead>\n",
       "  <tbody>\n",
       "    <tr>\n",
       "      <th>0</th>\n",
       "      <td>1889</td>\n",
       "      <td>0.06</td>\n",
       "    </tr>\n",
       "    <tr>\n",
       "      <th>1</th>\n",
       "      <td>1890</td>\n",
       "      <td>0.57</td>\n",
       "    </tr>\n",
       "    <tr>\n",
       "      <th>2</th>\n",
       "      <td>1891</td>\n",
       "      <td>0.20</td>\n",
       "    </tr>\n",
       "    <tr>\n",
       "      <th>3</th>\n",
       "      <td>1892</td>\n",
       "      <td>0.23</td>\n",
       "    </tr>\n",
       "    <tr>\n",
       "      <th>4</th>\n",
       "      <td>1893</td>\n",
       "      <td>0.14</td>\n",
       "    </tr>\n",
       "  </tbody>\n",
       "</table>\n",
       "</div>"
      ],
      "text/plain": [
       "   campaign_id  click_rate\n",
       "0         1889        0.06\n",
       "1         1890        0.57\n",
       "2         1891        0.20\n",
       "3         1892        0.23\n",
       "4         1893        0.14"
      ]
     },
     "execution_count": 66,
     "metadata": {},
     "output_type": "execute_result"
    }
   ],
   "source": [
    "result.head()"
   ]
  },
  {
   "cell_type": "code",
   "execution_count": 67,
   "id": "f60353fd-e8be-4b60-9946-07fd3586f0de",
   "metadata": {},
   "outputs": [],
   "source": [
    "result.to_csv('submission.csv',index=False)"
   ]
  },
  {
   "cell_type": "code",
   "execution_count": null,
   "id": "657929cf-0d08-432f-a01f-2d922f53792f",
   "metadata": {},
   "outputs": [],
   "source": []
  }
 ],
 "metadata": {
  "kernelspec": {
   "display_name": "Python 3 (ipykernel)",
   "language": "python",
   "name": "python3"
  },
  "language_info": {
   "codemirror_mode": {
    "name": "ipython",
    "version": 3
   },
   "file_extension": ".py",
   "mimetype": "text/x-python",
   "name": "python",
   "nbconvert_exporter": "python",
   "pygments_lexer": "ipython3",
   "version": "3.9.12"
  }
 },
 "nbformat": 4,
 "nbformat_minor": 5
}
